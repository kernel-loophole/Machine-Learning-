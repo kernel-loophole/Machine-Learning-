{
  "nbformat": 4,
  "nbformat_minor": 0,
  "metadata": {
    "colab": {
      "provenance": []
    },
    "kernelspec": {
      "name": "python3",
      "display_name": "Python 3"
    },
    "language_info": {
      "name": "python"
    }
  },
  "cells": [
    {
      "cell_type": "code",
      "execution_count": 3,
      "metadata": {
        "id": "U8BYjqKx6REW"
      },
      "outputs": [],
      "source": [
        "from tensorflow.keras.layers import Flatten\n",
        "from tensorflow.keras.layers import Dense,Input\n",
        "from tensorflow.keras import Sequential\n",
        "from tensorflow.keras import activations"
      ]
    },
    {
      "cell_type": "code",
      "source": [
        "Seq_Model=Sequential([\n",
        "    Flatten(input_shape=(28,28)),\n",
        "    Dense(128,activation=\"relu\"),\n",
        "    Dense(10,activation=\"softmax\")])"
      ],
      "metadata": {
        "id": "z36Y-99X63fY"
      },
      "execution_count": 5,
      "outputs": []
    },
    {
      "cell_type": "code",
      "source": [],
      "metadata": {
        "id": "OFUeIYmA8O4g"
      },
      "execution_count": null,
      "outputs": []
    },
    {
      "cell_type": "markdown",
      "source": [
        "**Define model using Fucntional API**"
      ],
      "metadata": {
        "id": "wa34ZIo-8jeI"
      }
    },
    {
      "cell_type": "code",
      "source": [
        "from tensorflow.keras.layers import Input\n",
        "input_1=Input(shape=(28,28))\n",
        "x=Flatten()(input_1)\n",
        "x=Dense(128,activation=\"relu\")(x)\n",
        "prediction=Dense(10,activation=\"softmax\")(x)\n"
      ],
      "metadata": {
        "id": "MlMCaZy98tzF"
      },
      "execution_count": 7,
      "outputs": []
    },
    {
      "cell_type": "code",
      "source": [],
      "metadata": {
        "id": "U-SD1cT79nRS"
      },
      "execution_count": null,
      "outputs": []
    }
  ]
}